{
 "cells": [
  {
   "cell_type": "code",
   "execution_count": null,
   "id": "c6bf56d9",
   "metadata": {
    "vscode": {
     "languageId": "plaintext"
    }
   },
   "outputs": [],
   "source": [
    "Hello From Partha.. Hi from You to Me. Welcome . Hello World!"
   ]
  }
 ],
 "metadata": {
  "language_info": {
   "name": "python"
  }
 },
 "nbformat": 4,
 "nbformat_minor": 5
}
